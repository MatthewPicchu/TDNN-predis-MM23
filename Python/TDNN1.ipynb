{
 "cells": [
  {
   "attachments": {},
   "cell_type": "markdown",
   "metadata": {},
   "source": [
    "# TDNN for digital pre-distortion"
   ]
  },
  {
   "attachments": {},
   "cell_type": "markdown",
   "metadata": {},
   "source": [
    "Import modules"
   ]
  },
  {
   "cell_type": "code",
   "execution_count": 472,
   "metadata": {},
   "outputs": [],
   "source": [
    "import tensorflow as tf\n",
    "from tensorflow import keras\n",
    "import matplotlib.pyplot as plt\n",
    "%matplotlib inline\n",
    "import numpy as np\n",
    "import pandas as pd\n",
    "import csv\n",
    "from numpy import genfromtxt\n",
    "import pydot"
   ]
  },
  {
   "attachments": {},
   "cell_type": "markdown",
   "metadata": {},
   "source": [
    "## Network Config\n",
    "\n",
    "Enter values for network input size (number of inputs into the TDNN) and the number of desired delays within the TDNN.\n",
    "\n",
    "The number of inputs will be dependent on the dataset setup. For the PA dataset below there are 2 inputs - real and imaginary parts of the signal"
   ]
  },
  {
   "cell_type": "code",
   "execution_count": 473,
   "metadata": {},
   "outputs": [],
   "source": [
    "number_of_delays = 4; # This defines the amount of delays that are in the TDNN\n",
    "number_of_inputs = 2; # The amount of inputs for the nueral network\n",
    "APSK = False;\n",
    "QAM = not APSK;"
   ]
  },
  {
   "cell_type": "code",
   "execution_count": 474,
   "metadata": {},
   "outputs": [],
   "source": [
    "NN_input_size = number_of_inputs*(number_of_delays+1)"
   ]
  },
  {
   "attachments": {},
   "cell_type": "markdown",
   "metadata": {},
   "source": [
    "Creating the Dataset"
   ]
  },
  {
   "cell_type": "code",
   "execution_count": 475,
   "metadata": {},
   "outputs": [],
   "source": [
    "if(QAM == True):\n",
    "    #training data\n",
    "    real_input = np.genfromtxt('./saleh_real_train_input.csv', delimiter=',')\n",
    "    real_output = np.genfromtxt('./saleh_real_train_output.csv', delimiter=',')\n",
    "    imag_input = np.genfromtxt('./saleh_imag_train_input.csv', delimiter=',')\n",
    "    imag_output = np.genfromtxt('./saleh_imag_train_output.csv', delimiter=',')\n",
    "\n",
    "    #test data\n",
    "    real_test_input = np.genfromtxt('./saleh_real_test_input.csv', delimiter=',')\n",
    "    real_test_output = np.genfromtxt('./saleh_real_test_output.csv', delimiter=',')\n",
    "    imag_test_input = np.genfromtxt('./saleh_imag_test_input.csv', delimiter=',')\n",
    "    imag_test_output = np.genfromtxt('./saleh_imag_test_output.csv', delimiter=',')\n",
    "\n",
    "if (APSK == True):\n",
    "    #training data\n",
    "    real_input = np.genfromtxt('./saleh_real_train_input_apsk.csv', delimiter=',')\n",
    "    real_output = np.genfromtxt('./saleh_real_train_output_apsk.csv', delimiter=',')\n",
    "    imag_input = np.genfromtxt('./saleh_imag_train_input_apsk.csv', delimiter=',')\n",
    "    imag_output = np.genfromtxt('./saleh_imag_train_output_apsk.csv', delimiter=',')\n",
    "\n",
    "    #test data\n",
    "    real_test_input = np.genfromtxt('./saleh_real_test_input_apsk.csv', delimiter=',')\n",
    "    real_test_output = np.genfromtxt('./saleh_real_test_output_apsk.csv', delimiter=',')\n",
    "    imag_test_input = np.genfromtxt('./saleh_imag_test_input_apsk.csv', delimiter=',')\n",
    "    imag_test_output = np.genfromtxt('./saleh_imag_test_output_apsk.csv', delimiter=',')"
   ]
  },
  {
   "attachments": {},
   "cell_type": "markdown",
   "metadata": {},
   "source": [
    "Combine real and imaginary parts into a signle input"
   ]
  },
  {
   "cell_type": "code",
   "execution_count": 476,
   "metadata": {},
   "outputs": [],
   "source": [
    "train_input = np.array([real_input,imag_input])\n",
    "train_output = np.array([real_output,imag_output])\n",
    "test_input = np.array([real_test_input,imag_test_input])\n",
    "test_output = np.array([real_test_output,imag_test_output])"
   ]
  },
  {
   "attachments": {},
   "cell_type": "markdown",
   "metadata": {},
   "source": [
    "Transpose matrix"
   ]
  },
  {
   "cell_type": "code",
   "execution_count": 477,
   "metadata": {},
   "outputs": [],
   "source": [
    "train_input = np.transpose(train_input)\n",
    "train_output = np.transpose(train_output)\n",
    "test_input = np.transpose(test_input)\n",
    "test_output = np.transpose(test_output)"
   ]
  },
  {
   "attachments": {},
   "cell_type": "markdown",
   "metadata": {},
   "source": [
    "Delay function to add addtional columns onto the input, acting as the delays for the TDNN"
   ]
  },
  {
   "cell_type": "code",
   "execution_count": 478,
   "metadata": {},
   "outputs": [],
   "source": [
    "def delay(X, no_delay):\n",
    "    \"\"\"\n",
    "    This function will expand each row of a given matrix by input no_delay\n",
    "\n",
    "    Given a Nx2 matrix, and no_delay = 4, the output will be a Nx10\n",
    "\n",
    "    The additional columns will be based on the previous rows\n",
    "    n-1, n-2, n-3 and n-4.\n",
    "    \"\"\"\n",
    "    input_samples = X.shape[0]\n",
    "    input_width = X.shape[1]\n",
    "    blank_delay = np.zeros(input_width)\n",
    "    Y = np.empty([input_samples,(input_width*(no_delay+1))])\n",
    "    for n in range(input_samples):\n",
    "        delay_array = []\n",
    "        for i in range(no_delay):\n",
    "            if((n-(i+1))>=0):\n",
    "                delay_array = np.append(delay_array, X[n-(i+1)])\n",
    "            else:\n",
    "                delay_array = np.append(delay_array,blank_delay)   \n",
    "        Y[n] = np.r_[X[n],delay_array]\n",
    "\n",
    "    return(Y)"
   ]
  },
  {
   "cell_type": "code",
   "execution_count": 479,
   "metadata": {},
   "outputs": [],
   "source": [
    "train_input_delayed = delay(train_input,number_of_delays)\n",
    "test_input_delayed = delay(test_input,number_of_delays)"
   ]
  },
  {
   "attachments": {},
   "cell_type": "markdown",
   "metadata": {},
   "source": [
    "### Create the network structure:\n",
    "The following creates a NN keras strcture and Compiles it and trains it on the dataset"
   ]
  },
  {
   "cell_type": "code",
   "execution_count": 513,
   "metadata": {},
   "outputs": [
    {
     "name": "stdout",
     "output_type": "stream",
     "text": [
      "Epoch 1/10\n",
      "3687/3687 [==============================] - 5s 1ms/step - loss: 0.0220 - mean_absolute_error: 0.0606 - accuracy: 0.9480 - val_loss: 0.0018 - val_mean_absolute_error: 0.0281 - val_accuracy: 0.9494\n",
      "Epoch 2/10\n",
      "3687/3687 [==============================] - 4s 1ms/step - loss: 0.0023 - mean_absolute_error: 0.0276 - accuracy: 0.9820 - val_loss: 0.0013 - val_mean_absolute_error: 0.0240 - val_accuracy: 0.9648\n",
      "Epoch 3/10\n",
      "3687/3687 [==============================] - 4s 1ms/step - loss: 0.0021 - mean_absolute_error: 0.0269 - accuracy: 0.9799 - val_loss: 0.0015 - val_mean_absolute_error: 0.0274 - val_accuracy: 0.9461\n",
      "Epoch 4/10\n",
      "3687/3687 [==============================] - 4s 1ms/step - loss: 0.0020 - mean_absolute_error: 0.0266 - accuracy: 0.9797 - val_loss: 0.0014 - val_mean_absolute_error: 0.0270 - val_accuracy: 0.9492\n",
      "Epoch 5/10\n",
      "3687/3687 [==============================] - 4s 1ms/step - loss: 0.0020 - mean_absolute_error: 0.0265 - accuracy: 0.9796 - val_loss: 0.0014 - val_mean_absolute_error: 0.0263 - val_accuracy: 0.9471\n",
      "Epoch 6/10\n",
      "3687/3687 [==============================] - 4s 1ms/step - loss: 0.0020 - mean_absolute_error: 0.0264 - accuracy: 0.9801 - val_loss: 0.0013 - val_mean_absolute_error: 0.0248 - val_accuracy: 0.9464\n",
      "Epoch 7/10\n",
      "3687/3687 [==============================] - 4s 1ms/step - loss: 0.0020 - mean_absolute_error: 0.0262 - accuracy: 0.9797 - val_loss: 0.0014 - val_mean_absolute_error: 0.0257 - val_accuracy: 0.9613\n",
      "Epoch 8/10\n",
      "3687/3687 [==============================] - 4s 1ms/step - loss: 0.0020 - mean_absolute_error: 0.0261 - accuracy: 0.9799 - val_loss: 0.0015 - val_mean_absolute_error: 0.0274 - val_accuracy: 0.9478\n",
      "Epoch 9/10\n",
      "3687/3687 [==============================] - 4s 1ms/step - loss: 0.0020 - mean_absolute_error: 0.0260 - accuracy: 0.9800 - val_loss: 0.0012 - val_mean_absolute_error: 0.0235 - val_accuracy: 0.9667\n",
      "Epoch 10/10\n",
      "3687/3687 [==============================] - 4s 1ms/step - loss: 0.0020 - mean_absolute_error: 0.0259 - accuracy: 0.9801 - val_loss: 0.0013 - val_mean_absolute_error: 0.0257 - val_accuracy: 0.9471\n"
     ]
    },
    {
     "data": {
      "text/plain": [
       "<keras.callbacks.History at 0x145a35810c0>"
      ]
     },
     "execution_count": 513,
     "metadata": {},
     "output_type": "execute_result"
    }
   ],
   "source": [
    "TDNN = keras.Sequential([\n",
    "    keras.layers.Dense(10,input_shape=(NN_input_size,),activation='sigmoid',kernel_constraint = keras.constraints.MinMaxNorm(-1,1), bias_constraint= keras.constraints.MinMaxNorm(-1,1)),\n",
    "    keras.layers.Dense(2,activation='linear',kernel_constraint = keras.constraints.MinMaxNorm(-1,1),bias_constraint = keras.constraints.MinMaxNorm(-1,1))\n",
    "])\n",
    "\n",
    "TDNN.compile(\n",
    "    optimizer= keras.optimizers.Adam(),\n",
    "    loss='mse',\n",
    "    metrics=['mean_absolute_error', 'accuracy'],\n",
    "    steps_per_execution= 1\n",
    ")\n",
    "\n",
    "TDNN.fit(train_input_delayed,train_output,\n",
    "        batch_size=32,\n",
    "        epochs=10,\n",
    "        validation_split=0.1,\n",
    "        shuffle = True)"
   ]
  },
  {
   "attachments": {},
   "cell_type": "markdown",
   "metadata": {},
   "source": [
    "Evalutate the system on the test data"
   ]
  },
  {
   "cell_type": "code",
   "execution_count": 514,
   "metadata": {},
   "outputs": [
    {
     "name": "stdout",
     "output_type": "stream",
     "text": [
      "36450/36450 [==============================] - 34s 931us/step - loss: 0.0418 - mean_absolute_error: 0.1371 - accuracy: 0.9984\n"
     ]
    },
    {
     "data": {
      "text/plain": [
       "[0.04176266863942146, 0.13712984323501587, 0.9983898997306824]"
      ]
     },
     "execution_count": 514,
     "metadata": {},
     "output_type": "execute_result"
    }
   ],
   "source": [
    "TDNN.evaluate(test_input_delayed,test_output)"
   ]
  },
  {
   "attachments": {},
   "cell_type": "markdown",
   "metadata": {},
   "source": [
    "Generate all of the outputs from the test data"
   ]
  },
  {
   "cell_type": "code",
   "execution_count": 515,
   "metadata": {},
   "outputs": [
    {
     "name": "stdout",
     "output_type": "stream",
     "text": [
      "36450/36450 [==============================] - 26s 723us/step\n"
     ]
    },
    {
     "data": {
      "text/plain": [
       "array([[-0.30208015,  0.55623484],\n",
       "       [-0.30253452,  0.5574628 ],\n",
       "       [-0.28809822,  0.52184594],\n",
       "       ...,\n",
       "       [-0.25255996,  0.48147568],\n",
       "       [-0.25256002,  0.48147568],\n",
       "       [-0.25256002,  0.48147568]], dtype=float32)"
      ]
     },
     "execution_count": 515,
     "metadata": {},
     "output_type": "execute_result"
    }
   ],
   "source": [
    "Predicted = TDNN.predict(test_input_delayed)\n",
    "Predicted\n"
   ]
  },
  {
   "attachments": {},
   "cell_type": "markdown",
   "metadata": {},
   "source": [
    "Create a figures to compare the network output and the target output"
   ]
  },
  {
   "cell_type": "code",
   "execution_count": 517,
   "metadata": {},
   "outputs": [
    {
     "data": {
      "text/plain": [
       "<matplotlib.legend.Legend at 0x145466af8e0>"
      ]
     },
     "execution_count": 517,
     "metadata": {},
     "output_type": "execute_result"
    },
    {
     "data": {
      "text/plain": [
       "<Figure size 640x480 with 0 Axes>"
      ]
     },
     "metadata": {},
     "output_type": "display_data"
    },
    {
     "data": {
      "image/png": "[encoded data removed]",
      "text/plain": [
       "<Figure size 640x480 with 1 Axes>"
      ]
     },
     "metadata": {},
     "output_type": "display_data"
    }
   ],
   "source": [
    "plt.figure()\n",
    "fig, ax = plt.subplots()\n",
    "plt.xlabel(\"Target output\")\n",
    "plt.ylabel(\"Predicted output\")\n",
    "plt.title('Real QAM tanh Target vs Result')\n",
    "plt.xlim([-1,1])\n",
    "plt.ylim([-1,1])\n",
    "plt.grid()\n",
    "ax.scatter(test_output[:,0],Predicted[:,0],alpha=0.3,label='real')\n",
    "ax.legend()"
   ]
  },
  {
   "cell_type": "code",
   "execution_count": 518,
   "metadata": {},
   "outputs": [
    {
     "data": {
      "text/plain": [
       "<matplotlib.legend.Legend at 0x1454684cb80>"
      ]
     },
     "execution_count": 518,
     "metadata": {},
     "output_type": "execute_result"
    },
    {
     "data": {
      "text/plain": [
       "<Figure size 640x480 with 0 Axes>"
      ]
     },
     "metadata": {},
     "output_type": "display_data"
    },
    {
     "data": {
      "image/png": "[encoded data removed]",
      "text/plain": [
       "<Figure size 640x480 with 1 Axes>"
      ]
     },
     "metadata": {},
     "output_type": "display_data"
    }
   ],
   "source": [
    "plt.figure()\n",
    "fig, ax = plt.subplots()\n",
    "plt.xlabel(\"Target output\")\n",
    "plt.ylabel(\"Predicted output\")\n",
    "plt.title('Imaginary QAM tanh Target vs Result')\n",
    "plt.xlim([-1,1])\n",
    "plt.ylim([-1,1])\n",
    "plt.grid()\n",
    "ax.scatter(test_output[:,1],Predicted[:,1],alpha=0.3,color='red',label='imaginary')\n",
    "ax.legend()"
   ]
  },
  {
   "attachments": {},
   "cell_type": "markdown",
   "metadata": {},
   "source": [
    "Display the network structure"
   ]
  },
  {
   "cell_type": "code",
   "execution_count": 519,
   "metadata": {},
   "outputs": [
    {
     "data": {
      "image/png": "[encoded data removed]",
      "text/plain": [
       "<IPython.core.display.Image object>"
      ]
     },
     "execution_count": 519,
     "metadata": {},
     "output_type": "execute_result"
    }
   ],
   "source": [
    "import pydot\n",
    "from keras.utils.vis_utils import plot_model\n",
    "plot_model(TDNN, to_file='model_plot.png', show_shapes=True, show_layer_names=True, show_layer_activations=True)"
   ]
  },
  {
   "attachments": {},
   "cell_type": "markdown",
   "metadata": {},
   "source": [
    "Visualise the network structure"
   ]
  },
  {
   "cell_type": "code",
   "execution_count": 520,
   "metadata": {},
   "outputs": [],
   "source": [
    "import keras_visualizer as kv\n",
    "\n",
    "kv.visualizer(TDNN, file_name='visualTDNN', file_format= 'png')"
   ]
  },
  {
   "attachments": {},
   "cell_type": "markdown",
   "metadata": {},
   "source": [
    "Float to fixed point hex conversion"
   ]
  },
  {
   "cell_type": "code",
   "execution_count": 521,
   "metadata": {},
   "outputs": [],
   "source": [
    "def float_to_fixed_point(value):\n",
    "    \"\"\"\n",
    "    This function takes in a floating point value\n",
    "    and converts it to signed 16 bit fixed point hex\n",
    "    \"\"\"\n",
    "    fixed_point = int(value * (2 ** 15 - 1))+1\n",
    "    if fixed_point < 0:\n",
    "        fixed_point = (1 << 16) + fixed_point - 2\n",
    "    elif value == 0:\n",
    "        fixed_point = 0\n",
    "    return hex(fixed_point)[2:]"
   ]
  },
  {
   "attachments": {},
   "cell_type": "markdown",
   "metadata": {},
   "source": [
    "Float to fixed point binary conversion"
   ]
  },
  {
   "cell_type": "code",
   "execution_count": 522,
   "metadata": {},
   "outputs": [],
   "source": [
    "def float_to_bin_fixed_point(value):\n",
    "    '''\n",
    "    This function takes in a floating point value\n",
    "    and converts it to signed 16 bit fixed point binary\n",
    "    '''\n",
    "    fixed_point = int(value * (2 ** 15 - 1)) + 1\n",
    "    print(fixed_point)\n",
    "    if fixed_point < 0:\n",
    "        fixed_point = (1 << 16) + fixed_point - 3\n",
    "        print(fixed_point)\n",
    "    return bin(fixed_point)[2:].zfill(16)"
   ]
  },
  {
   "attachments": {},
   "cell_type": "markdown",
   "metadata": {},
   "source": [
    "### get weights and biases for layer 1"
   ]
  },
  {
   "cell_type": "code",
   "execution_count": 523,
   "metadata": {},
   "outputs": [],
   "source": [
    "bias = open('bias1.mem', 'w')\n",
    "\n",
    "for x in np.transpose(TDNN.layers[0].get_weights()[1]):\n",
    "    data = \"{}\\n\".format(float_to_fixed_point(x)) #string with hex value\n",
    "    data = data.replace('0x', '') #remove any 0x\n",
    "    bias.write(data) #write to file\n",
    "\n",
    "bias.close()\n",
    "\n",
    "weights = open('weights1.mem', 'w')\n",
    "\n",
    "for x in np.transpose(TDNN.layers[0].get_weights()[0]):\n",
    "    for i in x:\n",
    "        data = \"{}\\n\".format(float_to_fixed_point(i))\n",
    "        data = data.replace('0x', '')\n",
    "        weights.write(data)\n",
    "\n",
    "weights.close()"
   ]
  },
  {
   "attachments": {},
   "cell_type": "markdown",
   "metadata": {},
   "source": [
    "### get weights and biases for layer 2"
   ]
  },
  {
   "cell_type": "code",
   "execution_count": 524,
   "metadata": {},
   "outputs": [],
   "source": [
    "#get weights and biases for layer 2\n",
    "bias = open('bias2.mem', 'w')\n",
    "\n",
    "for x in np.transpose(TDNN.layers[1].get_weights()[1]):\n",
    "    data = \"{}\\n\".format(float_to_fixed_point(x)) #string with hex value\n",
    "    data = data.replace('0x', '') #remove any 0x\n",
    "    bias.write(data) #write to file\n",
    "\n",
    "bias.close()\n",
    "\n",
    "weights = open('weights2.mem', 'w')\n",
    "\n",
    "for x in np.transpose(TDNN.layers[1].get_weights()[0]):\n",
    "    for i in x:\n",
    "        data = \"{}\\n\".format(float_to_fixed_point(i))\n",
    "        data = data.replace('0x', '')\n",
    "        weights.write(data)\n",
    "\n",
    "weights.close()"
   ]
  },
  {
   "cell_type": "code",
   "execution_count": 525,
   "metadata": {},
   "outputs": [
    {
     "name": "stdout",
     "output_type": "stream",
     "text": [
      "1/1 [==============================] - 0s 49ms/step\n"
     ]
    },
    {
     "data": {
      "text/plain": [
       "array([[ 0.00821954, -0.00660184],\n",
       "       [ 0.00821954, -0.00660184]], dtype=float32)"
      ]
     },
     "execution_count": 525,
     "metadata": {},
     "output_type": "execute_result"
    }
   ],
   "source": [
    "x = delay(np.array([[0,0],[0,0]]), 4)\n",
    "TDNN.predict(x)"
   ]
  },
  {
   "attachments": {},
   "cell_type": "markdown",
   "metadata": {},
   "source": [
    "Generate Sigmoid values for the network"
   ]
  },
  {
   "cell_type": "code",
   "execution_count": 526,
   "metadata": {},
   "outputs": [],
   "source": [
    "#gen sigmoid LUT values\n",
    "sigmoid_size = 2**20;\n",
    "#All 16-bit signed fixed point values between -1 and 1\n",
    "sig_index = range(0,(sigmoid_size)-1)\n",
    "signed_value = [float(-15)]\n",
    "for x in sig_index:\n",
    "    #each subsequent value is a step larger than the last\n",
    "    signed_value.append(signed_value[-1] + 0.000030517578125)\n",
    "\n",
    "#sorted from smallest hex value to largest: 0x0 - 0x1fffff\n",
    "sorted_values = signed_value[491520:] + signed_value[0:491520] \n",
    "\n",
    "sig = []\n",
    "for sfp in sorted_values:\n",
    "    sig.append(1/(1+np.exp(-sfp)))\n",
    "\n",
    "sfp = open('sfp.mem', 'w')\n",
    "for x in sig:\n",
    "    write_str = \"{}\\n\".format(float_to_fixed_point(x))\n",
    "    sfp.write(write_str)\n",
    "\n",
    "sfp.close()"
   ]
  },
  {
   "attachments": {},
   "cell_type": "markdown",
   "metadata": {},
   "source": [
    "Generate Outputs for the Neural Network to compare with System Verilog Simulation"
   ]
  },
  {
   "cell_type": "code",
   "execution_count": 529,
   "metadata": {},
   "outputs": [
    {
     "name": "stdout",
     "output_type": "stream",
     "text": [
      "b99a, e28f\n",
      "35c3, 7c28\n",
      "6e14, d47b\n",
      "8148, a000\n",
      "4f5c, f0a3\n",
      "7eb8, 6e14\n",
      "ce14, e51e\n",
      "ae15, 628f\n",
      "747a, f999\n",
      "f5d, ea3d\n",
      "1/1 [==============================] - 0s 23ms/step\n"
     ]
    },
    {
     "data": {
      "text/plain": [
       "array([[-0.26952857, -0.00560638],\n",
       "       [ 0.31524706,  0.3058448 ],\n",
       "       [ 0.35388988, -0.3003893 ],\n",
       "       [-0.52772814, -0.14231658],\n",
       "       [ 0.2799639 , -0.15191057],\n",
       "       [ 0.53818667,  0.1505712 ],\n",
       "       [-0.21704316,  0.04910013],\n",
       "       [-0.16870686,  0.40365633],\n",
       "       [ 0.38737702, -0.15875062],\n",
       "       [-0.01071233, -0.10369855]], dtype=float32)"
      ]
     },
     "execution_count": 529,
     "metadata": {},
     "output_type": "execute_result"
    }
   ],
   "source": [
    "A = delay(np.array([[-0.55,-0.23],\n",
    "                    [0.42,0.97],\n",
    "                    [0.86,-0.34],\n",
    "                    [-0.99,-0.75],\n",
    "                    [0.62,-0.12],\n",
    "                    [0.99,0.86],\n",
    "                    [-0.39,-0.21],\n",
    "                    [-0.64,0.77],\n",
    "                    [0.91,-0.05],\n",
    "                    [0.12,-0.17]]),\n",
    "          number_of_delays)\n",
    "\n",
    "\n",
    "\n",
    "for x in (A):\n",
    "    print(float_to_fixed_point(x[0]),end=', ')\n",
    "    print(float_to_fixed_point(x[1]))\n",
    "\n",
    "TDNN.predict(A)"
   ]
  }
 ],
 "metadata": {
  "kernelspec": {
   "display_name": "Python 3",
   "language": "python",
   "name": "python3"
  },
  "language_info": {
   "codemirror_mode": {
    "name": "ipython",
    "version": 3
   },
   "file_extension": ".py",
   "mimetype": "text/x-python",
   "name": "python",
   "nbconvert_exporter": "python",
   "pygments_lexer": "ipython3",
   "version": "3.10.2"
  },
  "orig_nbformat": 4
 },
 "nbformat": 4,
 "nbformat_minor": 2
}
